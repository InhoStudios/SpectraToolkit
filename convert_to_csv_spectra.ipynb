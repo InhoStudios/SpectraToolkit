{
 "cells": [
  {
   "cell_type": "code",
   "execution_count": 7,
   "metadata": {},
   "outputs": [],
   "source": [
    "import csv\n",
    "import numpy as np"
   ]
  },
  {
   "cell_type": "code",
   "execution_count": 8,
   "metadata": {},
   "outputs": [],
   "source": [
    "file_path = \"./data/Plastic Library_Aurelio.csv\""
   ]
  },
  {
   "cell_type": "code",
   "execution_count": 35,
   "metadata": {},
   "outputs": [],
   "source": [
    "with open(file_path) as csvfile:\n",
    "    graph_data = csv.reader(csvfile, delimiter=\",\")\n",
    "    wn_assigned = False\n",
    "    wavenumbers = None\n",
    "    spectra = []\n",
    "    names = []\n",
    "    for row in graph_data:\n",
    "        try:\n",
    "            _substance = row[1]\n",
    "            _data = np.array(row[3:1179]).astype(np.float64)\n",
    "            if not wn_assigned:\n",
    "                wavenumbers = _data.astype(int)\n",
    "                wn_assigned = True\n",
    "            else:\n",
    "                spectra.append(_data)\n",
    "                names.append(_substance)\n",
    "        except:\n",
    "            break\n",
    "\n",
    "data = np.array(spectra)\n",
    "\n",
    "# print(wavenumbers, wavenumbers.dtype)\n",
    "# print(spectra, data.dtype)\n",
    "\n",
    "for i, spectrum in enumerate(spectra):\n",
    "    wn_col = wavenumbers.reshape(len(wavenumbers), 1)\n",
    "    spec_col = spectrum.reshape(len(spectrum), 1)\n",
    "    this_spectrum = np.hstack((wn_col, spec_col))\n",
    "\n",
    "    _substance = names[i]\n",
    "    np.savetxt(f\"./export_spectra/{_substance}.csv\", this_spectrum, delimiter=\",\")"
   ]
  },
  {
   "cell_type": "code",
   "execution_count": null,
   "metadata": {},
   "outputs": [],
   "source": []
  }
 ],
 "metadata": {
  "kernelspec": {
   "display_name": "Python 3",
   "language": "python",
   "name": "python3"
  },
  "language_info": {
   "codemirror_mode": {
    "name": "ipython",
    "version": 3
   },
   "file_extension": ".py",
   "mimetype": "text/x-python",
   "name": "python",
   "nbconvert_exporter": "python",
   "pygments_lexer": "ipython3",
   "version": "3.11.4"
  },
  "orig_nbformat": 4
 },
 "nbformat": 4,
 "nbformat_minor": 2
}
